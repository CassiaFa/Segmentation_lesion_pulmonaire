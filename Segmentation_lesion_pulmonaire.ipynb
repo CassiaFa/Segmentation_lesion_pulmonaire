{
  "nbformat": 4,
  "nbformat_minor": 0,
  "metadata": {
    "colab": {
      "name": "Segmentation_lesion_pulmonaire",
      "provenance": [],
      "authorship_tag": "ABX9TyM4VAW+hXX5If71lwKhkP1N",
      "include_colab_link": true
    },
    "kernelspec": {
      "name": "python3",
      "display_name": "Python 3"
    },
    "language_info": {
      "name": "python"
    }
  },
  "cells": [
    {
      "cell_type": "markdown",
      "metadata": {
        "id": "view-in-github",
        "colab_type": "text"
      },
      "source": [
        "<a href=\"https://colab.research.google.com/github/CassiaFa/Segmentation_lesion_pulmonaire/blob/main/Segmentation_lesion_pulmonaire.ipynb\" target=\"_parent\"><img src=\"https://colab.research.google.com/assets/colab-badge.svg\" alt=\"Open In Colab\"/></a>"
      ]
    },
    {
      "cell_type": "markdown",
      "source": [
        "# Partie 1 : Base de données"
      ],
      "metadata": {
        "id": "kxjYvHbU8gRr"
      }
    },
    {
      "cell_type": "markdown",
      "source": [
        "## Importation des packages"
      ],
      "metadata": {
        "id": "qtD3XOPK6Fyp"
      }
    },
    {
      "cell_type": "code",
      "execution_count": null,
      "metadata": {
        "id": "wlsYzwk356BH"
      },
      "outputs": [],
      "source": [
        ""
      ]
    },
    {
      "cell_type": "markdown",
      "source": [
        "## Chargement des images"
      ],
      "metadata": {
        "id": "XETjyPfz6QCB"
      }
    },
    {
      "cell_type": "code",
      "source": [
        ""
      ],
      "metadata": {
        "id": "VcwsPXGK6V4D"
      },
      "execution_count": null,
      "outputs": []
    },
    {
      "cell_type": "markdown",
      "source": [
        "## Redimensionnage des images"
      ],
      "metadata": {
        "id": "GB7K-dzy6Wny"
      }
    },
    {
      "cell_type": "code",
      "source": [
        ""
      ],
      "metadata": {
        "id": "t9ts1Ebq66cJ"
      },
      "execution_count": null,
      "outputs": []
    },
    {
      "cell_type": "markdown",
      "source": [
        "## Diviser les données en train/validation/test"
      ],
      "metadata": {
        "id": "FBqLWtlo67oF"
      }
    },
    {
      "cell_type": "code",
      "source": [
        ""
      ],
      "metadata": {
        "id": "R9ao7VpI7aA7"
      },
      "execution_count": null,
      "outputs": []
    },
    {
      "cell_type": "markdown",
      "source": [
        "## Visualisation des données et vérité terrain associé"
      ],
      "metadata": {
        "id": "1UMnpFdg7afb"
      }
    },
    {
      "cell_type": "code",
      "source": [
        ""
      ],
      "metadata": {
        "id": "ICgXZshd8GF5"
      },
      "execution_count": null,
      "outputs": []
    },
    {
      "cell_type": "markdown",
      "source": [
        "## Data Augmentation"
      ],
      "metadata": {
        "id": "HxBo9fQb8Rkv"
      }
    },
    {
      "cell_type": "code",
      "source": [
        ""
      ],
      "metadata": {
        "id": "8hKv_jZX8UjQ"
      },
      "execution_count": null,
      "outputs": []
    },
    {
      "cell_type": "markdown",
      "source": [
        "# Partie 2 : Transfert Learning"
      ],
      "metadata": {
        "id": "h2_LDWOA8qlu"
      }
    },
    {
      "cell_type": "code",
      "source": [
        ""
      ],
      "metadata": {
        "id": "Ya_zsXXm8t3M"
      },
      "execution_count": null,
      "outputs": []
    }
  ]
}